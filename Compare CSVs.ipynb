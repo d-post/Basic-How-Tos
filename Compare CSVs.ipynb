{
 "cells": [
  {
   "cell_type": "code",
   "execution_count": 2,
   "id": "c470cc41",
   "metadata": {},
   "outputs": [],
   "source": [
    "# import relevant package\n",
    "import pandas as pd"
   ]
  },
  {
   "cell_type": "code",
   "execution_count": 3,
   "id": "99850c2e",
   "metadata": {},
   "outputs": [],
   "source": [
    "# import datasets into DataFrames\n",
    "df1 = pd.read_csv(\"first_file.csv\")\n",
    "df2 = pd.read_csv(\"second_file.csv\")"
   ]
  },
  {
   "cell_type": "code",
   "execution_count": 4,
   "id": "1be7543f",
   "metadata": {},
   "outputs": [],
   "source": [
    "# outer join the two datasets\n",
    "\n",
    "combined_df = df1.merge(df2, how=\"outer\", on=list(df1.columns), indicator=True)\n",
    "\n",
    "# joining on ALL columns in this example with the expectation that EVERYTHING should match\n",
    "# if it is not expected for the entirety of both CSVs to match, just pass a list of the columns that should\n",
    "# example: on = [\"NAME\",\"AGE\"]"
   ]
  },
  {
   "cell_type": "code",
   "execution_count": 5,
   "id": "72ee195d",
   "metadata": {},
   "outputs": [],
   "source": [
    "# create a new DataFrame comprised of the rows where there is a mismatched value\n",
    "# if the files match, this will be empty\n",
    "difference_df = combined_df[combined_df[\"_merge\"] == \"left_only\"]"
   ]
  },
  {
   "cell_type": "code",
   "execution_count": 6,
   "id": "d865f2ee",
   "metadata": {},
   "outputs": [
    {
     "data": {
      "text/html": [
       "<div>\n",
       "<style scoped>\n",
       "    .dataframe tbody tr th:only-of-type {\n",
       "        vertical-align: middle;\n",
       "    }\n",
       "\n",
       "    .dataframe tbody tr th {\n",
       "        vertical-align: top;\n",
       "    }\n",
       "\n",
       "    .dataframe thead th {\n",
       "        text-align: right;\n",
       "    }\n",
       "</style>\n",
       "<table border=\"1\" class=\"dataframe\">\n",
       "  <thead>\n",
       "    <tr style=\"text-align: right;\">\n",
       "      <th></th>\n",
       "      <th>DATE_EST</th>\n",
       "      <th>DAY_PART_ID</th>\n",
       "      <th>HH_IMP</th>\n",
       "      <th>P2_IMP</th>\n",
       "      <th>COVIEW</th>\n",
       "      <th>_merge</th>\n",
       "    </tr>\n",
       "  </thead>\n",
       "  <tbody>\n",
       "  </tbody>\n",
       "</table>\n",
       "</div>"
      ],
      "text/plain": [
       "Empty DataFrame\n",
     
       "Index: []"
      ]
     },
     "execution_count": 6,
     "metadata": {},
     "output_type": "execute_result"
    }
   ],
   "source": [
    "difference_df # view mismatched rows"
   ]
  },
  {
   "cell_type": "code",
   "execution_count": null,
   "id": "08163dc2",
   "metadata": {},
   "outputs": [],
   "source": [
    "# only necessary if you want to share exact results externally\n",
    "difference_df.drop(\"_merge\", axis=1, inplace=True)\n",
    "difference_df.to_csv(\"difference.csv\", index=False)"
   ]
  }
 ],
 "metadata": {
  "kernelspec": {
   "display_name": "Python 3 (ipykernel)",
   "language": "python",
   "name": "python3"
  },
  "language_info": {
   "codemirror_mode": {
    "name": "ipython",
    "version": 3
   },
   "file_extension": ".py",
   "mimetype": "text/x-python",
   "name": "python",
   "nbconvert_exporter": "python",
   "pygments_lexer": "ipython3",
   "version": "3.9.7"
  }
 },
 "nbformat": 4,
 "nbformat_minor": 5
}
